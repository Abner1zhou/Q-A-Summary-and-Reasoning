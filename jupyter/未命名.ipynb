{
 "cells": [
  {
   "cell_type": "code",
   "execution_count": 1,
   "metadata": {},
   "outputs": [],
   "source": [
    "import os\n",
    "import pathlib\n",
    "\n",
    "# 获取项目根目录\n",
    "root = pathlib.Path(os.path.abspath(\"未命名.ipynb\")).parent.parent\n"
   ]
  },
  {
   "cell_type": "code",
   "execution_count": 2,
   "metadata": {},
   "outputs": [],
   "source": [
    "# 预处理后的训练数据\n",
    "train_seg_path = os.path.join(root, 'database', 'train_seg_data.csv')\n",
    "# 预处理后的测试数据\n",
    "test_seg_path = os.path.join(root, 'database', 'test_seg_data.csv')"
   ]
  },
  {
   "cell_type": "code",
   "execution_count": 3,
   "metadata": {},
   "outputs": [],
   "source": [
    "import pandas as pd"
   ]
  },
  {
   "cell_type": "code",
   "execution_count": 42,
   "metadata": {},
   "outputs": [],
   "source": [
    "train_df = pd.read_csv(train_seg_path,encoding='utf-8')\n",
    "test_df = pd.read_csv(test_seg_path)"
   ]
  },
  {
   "cell_type": "code",
   "execution_count": 15,
   "metadata": {},
   "outputs": [
    {
     "name": "stdout",
     "output_type": "stream",
     "text": [
      "<class 'pandas.core.frame.DataFrame'>\n",
      "Int64Index: 80232 entries, 0 to 82870\n",
      "Data columns (total 6 columns):\n",
      "QID         80232 non-null object\n",
      "Brand       80232 non-null object\n",
      "Model       80232 non-null object\n",
      "Question    80232 non-null object\n",
      "Dialogue    80232 non-null object\n",
      "Report      80232 non-null object\n",
      "dtypes: object(6)\n",
      "memory usage: 4.3+ MB\n"
     ]
    }
   ],
   "source": [
    "train_df.info()"
   ]
  },
  {
   "cell_type": "code",
   "execution_count": 45,
   "metadata": {},
   "outputs": [
    {
     "data": {
      "text/plain": [
       "Question    0                                       方向机 重 ...\n",
       "Dialogue    0        新 都 换 助力 泵 方向机 换 方向机 带 助力 重 这车 匹配 不 需...\n",
       "Report      0                                             ...\n",
       "dtype: object"
      ]
     },
     "execution_count": 45,
     "metadata": {},
     "output_type": "execute_result"
    }
   ],
   "source": [
    "train_df[['Question', 'Dialogue', 'Report']].apply(str)"
   ]
  },
  {
   "cell_type": "code",
   "execution_count": 22,
   "metadata": {},
   "outputs": [],
   "source": [
    "# train_df.dropna(how='any')\n",
    "train_df.dropna(how='any', inplace=True)\n",
    "test_df.dropna(how='any', inplace=True)"
   ]
  },
  {
   "cell_type": "code",
   "execution_count": 50,
   "metadata": {},
   "outputs": [],
   "source": [
    "train_df.fillna(' ', inplace=True)"
   ]
  },
  {
   "cell_type": "code",
   "execution_count": 51,
   "metadata": {},
   "outputs": [
    {
     "name": "stdout",
     "output_type": "stream",
     "text": [
      "Q46\n",
      "起亚\n",
      "秀尔\n",
      "12 年 起亚 秀儿 中控锁 不 动作 更换 锁块 控制 盒 线路 都 遥控 双 闪亮 锁 不 动作\n",
      " \n",
      "描述 情况 分析 应该 检查 遥控器 有没有 发出 频率 信号 更换 控制 盒 有没有 遥控器 匹配 很 高兴 解答\n"
     ]
    }
   ],
   "source": [
    "for line in train_df.loc[45]:\n",
    "        print(line)"
   ]
  },
  {
   "cell_type": "code",
   "execution_count": 52,
   "metadata": {},
   "outputs": [
    {
     "data": {
      "text/plain": [
       "str"
      ]
     },
     "execution_count": 52,
     "metadata": {},
     "output_type": "execute_result"
    }
   ],
   "source": [
    "type(train_df.loc[45][4])"
   ]
  },
  {
   "cell_type": "code",
   "execution_count": 20,
   "metadata": {},
   "outputs": [],
   "source": [
    "train_df['merged'] = train_df[['Question', 'Dialogue', 'Report']].apply(lambda x: ' '.join(x), axis=1) "
   ]
  },
  {
   "cell_type": "code",
   "execution_count": 18,
   "metadata": {},
   "outputs": [
    {
     "data": {
      "text/html": [
       "<div>\n",
       "<style scoped>\n",
       "    .dataframe tbody tr th:only-of-type {\n",
       "        vertical-align: middle;\n",
       "    }\n",
       "\n",
       "    .dataframe tbody tr th {\n",
       "        vertical-align: top;\n",
       "    }\n",
       "\n",
       "    .dataframe thead th {\n",
       "        text-align: right;\n",
       "    }\n",
       "</style>\n",
       "<table border=\"1\" class=\"dataframe\">\n",
       "  <thead>\n",
       "    <tr style=\"text-align: right;\">\n",
       "      <th></th>\n",
       "      <th>QID</th>\n",
       "      <th>Brand</th>\n",
       "      <th>Model</th>\n",
       "      <th>Question</th>\n",
       "      <th>Dialogue</th>\n",
       "      <th>Report</th>\n",
       "      <th>merged</th>\n",
       "    </tr>\n",
       "  </thead>\n",
       "  <tbody>\n",
       "    <tr>\n",
       "      <td>0</td>\n",
       "      <td>Q1</td>\n",
       "      <td>奔驰</td>\n",
       "      <td>奔驰 GL 级</td>\n",
       "      <td>方向机 重 助力 泵 方向机 都 换</td>\n",
       "      <td>新 都 换 助力 泵 方向机 换 方向机 带 助力 重 这车 匹配 不 需要 更换 部件 问...</td>\n",
       "      <td>随时 联系</td>\n",
       "      <td>方向机 重 助力 泵 方向机 都 换 新 都 换 助力 泵 方向机 换 方向机 带 助力 重...</td>\n",
       "    </tr>\n",
       "    <tr>\n",
       "      <td>1</td>\n",
       "      <td>Q2</td>\n",
       "      <td>奔驰</td>\n",
       "      <td>奔驰 M 级</td>\n",
       "      <td>奔驰 ML500 排气 凸轮轴 调节 错误</td>\n",
       "      <td>有没有 电脑 检测 故障 代码 有发 一下 发动机 之前 亮 故障 灯 显示 失火 有点 缺...</td>\n",
       "      <td>随时 联系</td>\n",
       "      <td>奔驰 ML500 排气 凸轮轴 调节 错误 有没有 电脑 检测 故障 代码 有发 一下 发动...</td>\n",
       "    </tr>\n",
       "    <tr>\n",
       "      <td>2</td>\n",
       "      <td>Q3</td>\n",
       "      <td>宝马</td>\n",
       "      <td>宝马 X1 进口</td>\n",
       "      <td>2010 款 宝马 X12011 年 出厂 20 排量 通用 6L45 变速箱 原地 换挡 ...</td>\n",
       "      <td>4 缸 自然 吸气 发动机 N46 先 挂 空档 再 挂 档 有没有 闯动 变速箱 油液 位...</td>\n",
       "      <td>行驶 没有 顿挫 感觉 原地 换挡 闯动 刹车 踩 重 没有 力 限制 作用 应该 没有 问题</td>\n",
       "      <td>2010 款 宝马 X12011 年 出厂 20 排量 通用 6L45 变速箱 原地 换挡 ...</td>\n",
       "    </tr>\n",
       "    <tr>\n",
       "      <td>3</td>\n",
       "      <td>Q4</td>\n",
       "      <td>Jeep</td>\n",
       "      <td>牧马人</td>\n",
       "      <td>30V6 发动机 号 位置 照片 最好</td>\n",
       "      <td>右侧 排气管 上方 缸体 上 靠近 变速箱 是不是 号 不 先拓 下来 行车证 下 不是 有...</td>\n",
       "      <td>举起 车辆 左 前轮 缸体 上</td>\n",
       "      <td>30V6 发动机 号 位置 照片 最好 右侧 排气管 上方 缸体 上 靠近 变速箱 是不是 ...</td>\n",
       "    </tr>\n",
       "    <tr>\n",
       "      <td>4</td>\n",
       "      <td>Q5</td>\n",
       "      <td>奔驰</td>\n",
       "      <td>奔驰 C 级</td>\n",
       "      <td>2012 款 奔驰 c180 维修保养 动力 值得 拥有</td>\n",
       "      <td>家庭 用车 入手 维修保养 费用 不高 12 年 180 市场价 钱 现在 想 媳妇 买 属...</td>\n",
       "      <td>家庭 用车 入手 维修保养 价格 还 车况 好 价格合理 入手</td>\n",
       "      <td>2012 款 奔驰 c180 维修保养 动力 值得 拥有 家庭 用车 入手 维修保养 费用 ...</td>\n",
       "    </tr>\n",
       "  </tbody>\n",
       "</table>\n",
       "</div>"
      ],
      "text/plain": [
       "  QID Brand     Model                                           Question  \\\n",
       "0  Q1    奔驰   奔驰 GL 级                                 方向机 重 助力 泵 方向机 都 换   \n",
       "1  Q2    奔驰    奔驰 M 级                              奔驰 ML500 排气 凸轮轴 调节 错误   \n",
       "2  Q3    宝马  宝马 X1 进口  2010 款 宝马 X12011 年 出厂 20 排量 通用 6L45 变速箱 原地 换挡 ...   \n",
       "3  Q4  Jeep       牧马人                                30V6 发动机 号 位置 照片 最好   \n",
       "4  Q5    奔驰    奔驰 C 级                       2012 款 奔驰 c180 维修保养 动力 值得 拥有   \n",
       "\n",
       "                                            Dialogue  \\\n",
       "0  新 都 换 助力 泵 方向机 换 方向机 带 助力 重 这车 匹配 不 需要 更换 部件 问...   \n",
       "1  有没有 电脑 检测 故障 代码 有发 一下 发动机 之前 亮 故障 灯 显示 失火 有点 缺...   \n",
       "2  4 缸 自然 吸气 发动机 N46 先 挂 空档 再 挂 档 有没有 闯动 变速箱 油液 位...   \n",
       "3  右侧 排气管 上方 缸体 上 靠近 变速箱 是不是 号 不 先拓 下来 行车证 下 不是 有...   \n",
       "4  家庭 用车 入手 维修保养 费用 不高 12 年 180 市场价 钱 现在 想 媳妇 买 属...   \n",
       "\n",
       "                                            Report  \\\n",
       "0                                            随时 联系   \n",
       "1                                            随时 联系   \n",
       "2  行驶 没有 顿挫 感觉 原地 换挡 闯动 刹车 踩 重 没有 力 限制 作用 应该 没有 问题   \n",
       "3                                  举起 车辆 左 前轮 缸体 上   \n",
       "4                  家庭 用车 入手 维修保养 价格 还 车况 好 价格合理 入手   \n",
       "\n",
       "                                              merged  \n",
       "0  方向机 重 助力 泵 方向机 都 换 新 都 换 助力 泵 方向机 换 方向机 带 助力 重...  \n",
       "1  奔驰 ML500 排气 凸轮轴 调节 错误 有没有 电脑 检测 故障 代码 有发 一下 发动...  \n",
       "2  2010 款 宝马 X12011 年 出厂 20 排量 通用 6L45 变速箱 原地 换挡 ...  \n",
       "3  30V6 发动机 号 位置 照片 最好 右侧 排气管 上方 缸体 上 靠近 变速箱 是不是 ...  \n",
       "4  2012 款 奔驰 c180 维修保养 动力 值得 拥有 家庭 用车 入手 维修保养 费用 ...  "
      ]
     },
     "execution_count": 18,
     "metadata": {},
     "output_type": "execute_result"
    }
   ],
   "source": [
    "train_df.head()"
   ]
  },
  {
   "cell_type": "code",
   "execution_count": 23,
   "metadata": {},
   "outputs": [],
   "source": [
    "test_df['merged'] = test_df[['Question', 'Dialogue']].apply(lambda x: ' '.join(x), axis=1) "
   ]
  },
  {
   "cell_type": "code",
   "execution_count": 28,
   "metadata": {},
   "outputs": [],
   "source": [
    "merged_df = pd.concat([train_df[['merged']], test_df[['merged']]], axis=0)"
   ]
  },
  {
   "cell_type": "code",
   "execution_count": 29,
   "metadata": {},
   "outputs": [
    {
     "data": {
      "text/plain": [
       "<bound method NDFrame.head of                                                   merged\n",
       "0      方向机 重 助力 泵 方向机 都 换 新 都 换 助力 泵 方向机 换 方向机 带 助力 重...\n",
       "1      奔驰 ML500 排气 凸轮轴 调节 错误 有没有 电脑 检测 故障 代码 有发 一下 发动...\n",
       "2      2010 款 宝马 X12011 年 出厂 20 排量 通用 6L45 变速箱 原地 换挡 ...\n",
       "3      30V6 发动机 号 位置 照片 最好 右侧 排气管 上方 缸体 上 靠近 变速箱 是不是 ...\n",
       "4      2012 款 奔驰 c180 维修保养 动力 值得 拥有 家庭 用车 入手 维修保养 费用 ...\n",
       "...                                                  ...\n",
       "19995  路虎 极光 20t 发动机 进气 链轮 损坏 更换 进气 链轮 后 发动 一会儿 自动 熄火...\n",
       "19996  别克 英朗 XT 别撞 后 发现 左 雾灯 下雨 后 起雾 更换 新 原厂 雾灯 需要 钱 ...\n",
       "19997  师傅 想 问 下车 一周 开 两次 周一 开 过来 周五 开回去 对车 影响 车 不要 经常...\n",
       "19998  大师 车前 分泵 制动 钳 导管 之间 晃动 颠簸 路段 当当响 应该 处理 最 简单 办法...\n",
       "19999  大师 好 东风 风光 330 开车 下坡 时 没有 踩 刹车 四档 不 小心 挂到 一档 响...\n",
       "\n",
       "[100087 rows x 1 columns]>"
      ]
     },
     "execution_count": 29,
     "metadata": {},
     "output_type": "execute_result"
    }
   ],
   "source": [
    "merged_df.head()"
   ]
  },
  {
   "cell_type": "code",
   "execution_count": 32,
   "metadata": {},
   "outputs": [],
   "source": [
    "merge_real = pd.read_csv('/home/abner/PycharmProjects/NLP_Pro_01/database/merged_train_test_seg_data.csv', header=0)"
   ]
  },
  {
   "cell_type": "code",
   "execution_count": 33,
   "metadata": {},
   "outputs": [
    {
     "name": "stdout",
     "output_type": "stream",
     "text": [
      "<class 'pandas.core.frame.DataFrame'>\n",
      "RangeIndex: 102870 entries, 0 to 102869\n",
      "Data columns (total 2 columns):\n",
      "0                                                                                                                                                102870 non-null int64\n",
      "方向机 重 助力 泵 方向机 都 换 新 都 换 助力 泵 方向机 换 方向机 带 助力 重 这车 匹配 不 需要 更换 部件 问题 跑 快 还好 点 倒车 重 很 非常 重 累人 觉得 车主 以前 没 重选 助理 泵 换 不行 放 机换 现在 还 不 知道 车主 解释 随时 联系    102870 non-null object\n",
      "dtypes: int64(1), object(1)\n",
      "memory usage: 1.6+ MB\n"
     ]
    }
   ],
   "source": [
    "merge_real.info()"
   ]
  },
  {
   "cell_type": "code",
   "execution_count": 37,
   "metadata": {},
   "outputs": [
    {
     "name": "stderr",
     "output_type": "stream",
     "text": [
      "Building prefix dict from the default dictionary ...\n",
      "Loading model from cache /tmp/jieba.cache\n",
      "Building prefix dict from the default dictionary ...\n",
      "Loading model from cache /tmp/jieba.cache\n",
      "Building prefix dict from the default dictionary ...\n",
      "Loading model from cache /tmp/jieba.cache\n",
      "Building prefix dict from the default dictionary ...\n",
      "Loading model from cache /tmp/jieba.cache\n",
      "Building prefix dict from the default dictionary ...\n",
      "Loading model from cache /tmp/jieba.cache\n",
      "Building prefix dict from the default dictionary ...\n",
      "Loading model from cache /tmp/jieba.cache\n",
      "Loading model cost 0.536 seconds.\n",
      "Prefix dict has been built succesfully.\n",
      "Loading model cost 0.613 seconds.\n",
      "Prefix dict has been built succesfully.\n",
      "Loading model cost 0.600 seconds.\n",
      "Prefix dict has been built succesfully.\n",
      "Loading model cost 0.656 seconds.\n",
      "Prefix dict has been built succesfully.\n",
      "Loading model cost 0.607 seconds.\n",
      "Prefix dict has been built succesfully.\n",
      "Loading model cost 0.646 seconds.\n",
      "Prefix dict has been built succesfully.\n",
      "Building prefix dict from the default dictionary ...\n",
      "Loading model from cache /tmp/jieba.cache\n",
      "Building prefix dict from the default dictionary ...\n",
      "Loading model from cache /tmp/jieba.cache\n",
      "Building prefix dict from the default dictionary ...\n",
      "Loading model from cache /tmp/jieba.cache\n",
      "Building prefix dict from the default dictionary ...\n",
      "Loading model from cache /tmp/jieba.cache\n",
      "Building prefix dict from the default dictionary ...\n",
      "Loading model from cache /tmp/jieba.cache\n",
      "Building prefix dict from the default dictionary ...\n",
      "Loading model from cache /tmp/jieba.cache\n",
      "Loading model cost 0.574 seconds.\n",
      "Prefix dict has been built succesfully.\n",
      "Loading model cost 0.569 seconds.\n",
      "Prefix dict has been built succesfully.\n",
      "Loading model cost 0.633 seconds.\n",
      "Prefix dict has been built succesfully.\n",
      "Loading model cost 0.602 seconds.\n",
      "Prefix dict has been built succesfully.\n",
      "Loading model cost 0.580 seconds.\n",
      "Prefix dict has been built succesfully.\n",
      "Loading model cost 0.629 seconds.\n",
      "Prefix dict has been built succesfully.\n"
     ]
    }
   ],
   "source": [
    "import pandas as pd\n",
    "import collections\n",
    "import jieba\n",
    "import re\n",
    "import sys\n",
    "sys.path.append(\"..\")\n",
    "from utils.multi_cpus import parallelize\n",
    "\n",
    "TRAIN_PATH = \"/home/abner/PycharmProjects/NLP_Pro_01/database/AutoMaster_TrainSet.csv\"\n",
    "TEST_PATH = \"/home/abner/PycharmProjects/NLP_Pro_01/database/AutoMaster_TestSet.csv\"\n",
    "STOP_WORDS = '/home/abner/PycharmProjects/NLP_Pro_01/database/StopWords.txt'\n",
    "\n",
    "train_df = pd.read_csv(TRAIN_PATH)\n",
    "test_df = pd.read_csv(TEST_PATH)\n",
    "\n",
    "# 去除空白的行\n",
    "train_df.dropna(subset=['Question', 'Dialogue', 'Report'], how='any', inplace=True)\n",
    "test_df.dropna(subset=['Question', 'Dialogue'], how='any', inplace=True)\n",
    "\n",
    "# 设置停用词表，去掉无关的单词\n",
    "stop = []\n",
    "with open(STOP_WORDS, 'r', encoding='utf-8') as f:\n",
    "    lines = f.readlines()\n",
    "    for line in lines:\n",
    "        stop.append(line.strip())\n",
    "\n",
    "\n",
    "def clean_sentence(sentence):\n",
    "    '''\n",
    "    特殊符号去除\n",
    "    使用正则表达式去除无用的符号、词语\n",
    "    '''\n",
    "    if isinstance(sentence, str):\n",
    "        return re.sub(\n",
    "            r'[\\s+\\-\\|\\!\\/\\[\\]\\{\\}_,.$%^*(+\\\"\\')]+|[:：+——()?【】“”！，。？、~@#￥%……&*（）]+|车主说|技师说|语音|图片|你好|您好|nan',\n",
    "            '', sentence)\n",
    "    else:\n",
    "        return ''\n",
    "\n",
    "\n",
    "# cut函数，分别对question，dialogue，report进行切词\n",
    "def cut_words(sentences, stop=stop):\n",
    "    # 清除无用词\n",
    "    sentence = clean_sentence(sentences)\n",
    "    # 切词，默认精确模式，全模式cut参数cut_all=True\n",
    "    words = jieba.cut(sentence)\n",
    "    # 过滤停用词\n",
    "    words = [w for w in words if w not in stop]\n",
    "    return ' '.join(words)\n",
    "\n",
    "\n",
    "def cut_data_frame(df):\n",
    "    \"\"\"\n",
    "    数据集批量处理方法\n",
    "    :param df: 数据集\n",
    "    :return:处理好的数据集\n",
    "    \"\"\"\n",
    "    # 批量预处理 训练集和测试集\n",
    "    for col_name in ['Brand', 'Model', 'Question', 'Dialogue']:\n",
    "        df[col_name] = df[col_name].apply(cut_words)\n",
    "\n",
    "    if 'Report' in df.columns:\n",
    "        # 训练集 Report 预处理\n",
    "        df['Report'] = df['Report'].apply(cut_words)\n",
    "    return df\n",
    "\n",
    "\n",
    "train_df = parallelize(train_df, cut_data_frame)\n",
    "test_df = parallelize(test_df, cut_data_frame)\n",
    "# train_df.to_csv('database/train_seg_data.csv',index=None,header=True)\n",
    "# test_df.to_csv('database/test_seg_data.csv',index=None,header=True)\n",
    "\n",
    "train_df['merged'] = train_df[['Question', 'Dialogue', 'Report']].apply(lambda x: ' '.join(x), axis=1)  # axis 横向拼接\n",
    "test_df['merged'] = test_df[['Question', 'Dialogue']].apply(lambda x: ' '.join(x), axis=1)\n",
    "\n",
    "merged_df = pd.concat([train_df[['merged']], test_df[['merged']]], axis=0)  # 纵向拼接\n",
    "\n",
    "# merged_df.to_csv('database/merged_train_test_seg_data.csv',header=False)\n",
    "\n"
   ]
  },
  {
   "cell_type": "code",
   "execution_count": 40,
   "metadata": {},
   "outputs": [
    {
     "data": {
      "text/plain": [
       "str"
      ]
     },
     "execution_count": 40,
     "metadata": {},
     "output_type": "execute_result"
    }
   ],
   "source": [
    "type(train_df.loc[45][4])"
   ]
  },
  {
   "cell_type": "code",
   "execution_count": null,
   "metadata": {},
   "outputs": [],
   "source": []
  }
 ],
 "metadata": {
  "kernelspec": {
   "display_name": "NLP_Pro_01",
   "language": "python",
   "name": "nlp_pro_01"
  },
  "language_info": {
   "codemirror_mode": {
    "name": "ipython",
    "version": 3
   },
   "file_extension": ".py",
   "mimetype": "text/x-python",
   "name": "python",
   "nbconvert_exporter": "python",
   "pygments_lexer": "ipython3",
   "version": "3.7.4"
  }
 },
 "nbformat": 4,
 "nbformat_minor": 4
}
