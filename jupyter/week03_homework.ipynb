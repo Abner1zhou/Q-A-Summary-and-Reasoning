{
 "cells": [
  {
   "cell_type": "markdown",
   "metadata": {},
   "source": [
    "# Homework-week3\n",
    "## 1. 构建Seq2seq模型中的Encoder层，建议采用面向对象的编程形式。\n",
    "部分代码参考, 尝试不同的单元结构，考虑加上预训练词向量\n",
    "```python\n",
    "class Encoder():\n",
    "    def __init__(self, vocab_size, embedding_dim, enc_units, batch_sz):\n",
    "        super(Encoder, self).__init__()\n",
    "        # code\n",
    "    def call(self, x, hidden):\n",
    "        # code\n",
    "        pass\n",
    "\n",
    "    def initialize_hidden_state(self):\n",
    "        pass\n",
    "```\n",
    "\n",
    "## 2. 构建Seq2seq模型中的Dncoder层，建议采用面向对象的编程形式。\n",
    "部分代码参考, 尝试不同的单元结构，考虑加上预训练词向量\n",
    "```python\n",
    "class Decoder():\n",
    "    def __init__(self, vocab_size, embedding_dim, enc_units, batch_sz):\n",
    "        super(Decoder, self).__init__()\n",
    "        # code\n",
    "    def call(self, x, hidden, enc_output, context_vector):\n",
    "        # code\n",
    "        pass\n",
    "```\n",
    "\n",
    "## 3. 构建Seq2seq模型中的Attention层，建议采用面向对象的编程形式。<u>这部分这次作业选做</u>。\n",
    "部分代码参考\n",
    "```python\n",
    "class BahdanauAttention():\n",
    "    def __init__(self, units):\n",
    "        super(BahdanauAttention, self).__init__()\n",
    "        # code\n",
    "\n",
    "    def call(self, query, values):\n",
    "        # hidden shape == (batch_size, hidden size)\n",
    "        # hidden_with_time_axis shape == (batch_size, 1, hidden size)\n",
    "        # we are doing this to perform addition to calculate the score\n",
    "        # code\n",
    "\n",
    "        # score shape == (batch_size, max_length, 1)\n",
    "        # we get 1 at the last axis because we are applying score to self.V\n",
    "        # the shape of the tensor before applying self.V is (batch_size, max_length, units)\n",
    "        # code\n",
    "\n",
    "        # attention_weights shape == (batch_size, max_length, 1)\n",
    "        # code\n",
    "\n",
    "        # context_vector shape after sum == (batch_size, hidden_size)\n",
    "        # code\n",
    "\n",
    "        return \n",
    "```\n",
    "\n",
    "\n",
    "\n"
   ]
  },
  {
   "cell_type": "code",
   "execution_count": 2,
   "metadata": {},
   "outputs": [],
   "source": [
    "import sys\n",
    "sys.path.append(\"/home/\")"
   ]
  },
  {
   "cell_type": "code",
   "execution_count": 4,
   "metadata": {},
   "outputs": [
    {
     "ename": "ModuleNotFoundError",
     "evalue": "No module named 'utils'",
     "output_type": "error",
     "traceback": [
      "\u001b[0;31m---------------------------------------------------------------------------\u001b[0m",
      "\u001b[0;31mModuleNotFoundError\u001b[0m                       Traceback (most recent call last)",
      "\u001b[0;32m<ipython-input-4-d0540cb19444>\u001b[0m in \u001b[0;36m<module>\u001b[0;34m\u001b[0m\n\u001b[0;32m----> 1\u001b[0;31m \u001b[0;32mimport\u001b[0m \u001b[0mutils\u001b[0m\u001b[0;34m.\u001b[0m\u001b[0mconfig\u001b[0m\u001b[0;34m\u001b[0m\u001b[0;34m\u001b[0m\u001b[0m\n\u001b[0m",
      "\u001b[0;31mModuleNotFoundError\u001b[0m: No module named 'utils'"
     ]
    }
   ],
   "source": [
    "import utils.config"
   ]
  },
  {
   "cell_type": "code",
   "execution_count": null,
   "metadata": {},
   "outputs": [],
   "source": [
    "class Encoder():\n",
    "    def __init__(self, vocab_size, embedding_dim, enc_units, batch_sz):\n",
    "        super(Encoder, self).__init__()\n",
    "        # code\n",
    "    def call(self, x, hidden):\n",
    "        # code\n",
    "        pass\n",
    "\n",
    "    def initialize_hidden_state(self):\n",
    "        pass"
   ]
  }
 ],
 "metadata": {
  "kernelspec": {
   "display_name": "Python 3",
   "language": "python",
   "name": "python3"
  },
  "language_info": {
   "codemirror_mode": {
    "name": "ipython",
    "version": 3
   },
   "file_extension": ".py",
   "mimetype": "text/x-python",
   "name": "python",
   "nbconvert_exporter": "python",
   "pygments_lexer": "ipython3",
   "version": "3.7.4"
  }
 },
 "nbformat": 4,
 "nbformat_minor": 4
}
