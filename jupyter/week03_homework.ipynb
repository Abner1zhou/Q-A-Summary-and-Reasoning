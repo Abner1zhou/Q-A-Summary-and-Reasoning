{
 "cells": [
  {
   "cell_type": "markdown",
   "metadata": {},
   "source": [
    "# Homework-week3\n",
    "## 1. 构建Seq2seq模型中的Encoder层，建议采用面向对象的编程形式。\n",
    "部分代码参考, 尝试不同的单元结构，考虑加上预训练词向量\n",
    "```python\n",
    "class Encoder():\n",
    "    def __init__(self, vocab_size, embedding_dim, enc_units, batch_sz):\n",
    "        super(Encoder, self).__init__()\n",
    "        # code\n",
    "    def call(self, x, hidden):\n",
    "        # code\n",
    "        pass\n",
    "\n",
    "    def initialize_hidden_state(self):\n",
    "        pass\n",
    "```\n",
    "\n",
    "## 2. 构建Seq2seq模型中的Dncoder层，建议采用面向对象的编程形式。\n",
    "部分代码参考, 尝试不同的单元结构，考虑加上预训练词向量\n",
    "```python\n",
    "class Decoder():\n",
    "    def __init__(self, vocab_size, embedding_dim, enc_units, batch_sz):\n",
    "        super(Decoder, self).__init__()\n",
    "        # code\n",
    "    def call(self, x, hidden, enc_output, context_vector):\n",
    "        # code\n",
    "        pass\n",
    "```\n",
    "\n",
    "## 3. 构建Seq2seq模型中的Attention层，建议采用面向对象的编程形式。<u>这部分这次作业选做</u>。\n",
    "部分代码参考\n",
    "```python\n",
    "class BahdanauAttention():\n",
    "    def __init__(self, units):\n",
    "        super(BahdanauAttention, self).__init__()\n",
    "        # code\n",
    "\n",
    "    def call(self, query, values):\n",
    "        # hidden shape == (batch_size, hidden size)\n",
    "        # hidden_with_time_axis shape == (batch_size, 1, hidden size)\n",
    "        # we are doing this to perform addition to calculate the score\n",
    "        # code\n",
    "\n",
    "        # score shape == (batch_size, max_length, 1)\n",
    "        # we get 1 at the last axis because we are applying score to self.V\n",
    "        # the shape of the tensor before applying self.V is (batch_size, max_length, units)\n",
    "        # code\n",
    "\n",
    "        # attention_weights shape == (batch_size, max_length, 1)\n",
    "        # code\n",
    "\n",
    "        # context_vector shape after sum == (batch_size, hidden_size)\n",
    "        # code\n",
    "\n",
    "        return \n",
    "```\n",
    "\n",
    "\n",
    "\n"
   ]
  },
  {
   "cell_type": "code",
   "execution_count": 1,
   "metadata": {},
   "outputs": [],
   "source": [
    "import sys\n",
    "sys.path.append(\"/home/abner/PycharmProjects/NLP_Pro_01\")"
   ]
  },
  {
   "cell_type": "code",
   "execution_count": 2,
   "metadata": {},
   "outputs": [],
   "source": [
    "import tensorflow as tf"
   ]
  },
  {
   "cell_type": "code",
   "execution_count": 3,
   "metadata": {},
   "outputs": [],
   "source": [
    "import utils.config"
   ]
  },
  {
   "cell_type": "code",
   "execution_count": 4,
   "metadata": {},
   "outputs": [],
   "source": [
    "from gensim.models import word2vec"
   ]
  },
  {
   "cell_type": "code",
   "execution_count": 5,
   "metadata": {},
   "outputs": [],
   "source": [
    "w2v_model = word2vec.Word2Vec.load(utils.config.w2v_model_path)"
   ]
  },
  {
   "cell_type": "code",
   "execution_count": 10,
   "metadata": {},
   "outputs": [],
   "source": [
    "model_vetor_size = len(w2v_model.wv.vocab)"
   ]
  },
  {
   "cell_type": "code",
   "execution_count": 11,
   "metadata": {},
   "outputs": [],
   "source": [
    "model_embedding_dim = w2v_model.vector_size"
   ]
  },
  {
   "cell_type": "code",
   "execution_count": 17,
   "metadata": {},
   "outputs": [
    {
     "data": {
      "text/plain": [
       "[LogicalDevice(name='/job:localhost/replica:0/task:0/device:GPU:0', device_type='GPU')]"
      ]
     },
     "execution_count": 17,
     "metadata": {},
     "output_type": "execute_result"
    }
   ],
   "source": [
    "tf.config.experimental.list_logical_devices(\"GPU\")"
   ]
  },
  {
   "cell_type": "markdown",
   "metadata": {},
   "source": [
    "参数说明：\n",
    "vocab_size 词表数量\n",
    "embedding_dim 词向量维度\n",
    "enc_units 单元数（encoder层中包含的单元，如RNN、LSTM、GRU\n",
    "batch_sz 分片大小"
   ]
  },
  {
   "cell_type": "code",
   "execution_count": null,
   "metadata": {},
   "outputs": [],
   "source": [
    "class Encoder():\n",
    "    def __init__(self, vocab_size, embedding_dim, enc_units, batch_sz):\n",
    "        super(Encoder, self).__init__()\n",
    "        self.batch_size = batch_sz\n",
    "        self.enc_units = enc_units\n",
    "        self.embedding_dim = tf.keras.layers.Embedding(vocab_size, embedding_dim)\n",
    "        gpus = tf.config.experimental.list_logical_devices(\"GPU\")\n",
    "        if gpus:\n",
    "            self.gru = tf.keras.layers.CuDNNGRU(self.enc_units,\n",
    "                                                return_sequences=True,\n",
    "                                                return_state=True,\n",
    "                                                recurrent_initializer='glorot_uniform')\n",
    "        else:\n",
    "            self.gru = tf.keras.layers.GRU(self.enc_units,\n",
    "                                           return_sequences=True,\n",
    "                                           return_state=True,\n",
    "                                           recurrent_initializer='glorot_uniform')\n",
    "    def call(self, x, hidden):\n",
    "        x = self.embedding_dim(x)\n",
    "        output, state = self.gru(x, initial_state=hidden)\n",
    "        return output, state\n",
    "\n",
    "    def initialize_hidden_state(self):\n",
    "        return tf.zeros((self.batch_sz, self.enc_units))"
   ]
  },
  {
   "cell_type": "code",
   "execution_count": null,
   "metadata": {},
   "outputs": [],
   "source": [
    "class Decoder():\n",
    "    def __init__(self, vocab_size, embedding_dim, dec_units, batch_sz):\n",
    "        super(Decoder, self).__init__()\n",
    "        self.batch_sz = batch_sz\n",
    "        self.enc_units = enc_units\n",
    "        self.embedding = tf.keras.layers.Embedding(vocab_size, embedding_dim)\n",
    "        gpus = tf.config.experimental.list_physical_devices('GPU')\n",
    "        if gpus:\n",
    "            self.gru = tf.keras.layers.CuDNNGRU(self.enc_units,\n",
    "                                                return_sequences=True,\n",
    "                                                return_state=True,\n",
    "                                                recurrent_initializer='glorot_uniform')\n",
    "        else:\n",
    "            self.gru = tf.keras.layers.GRU(self.enc_units,\n",
    "                                           return_sequences=True,\n",
    "                                           return_state=True,\n",
    "                                           recurrent_initializer='glorot_uniform')\n",
    "    def call(self, x, hidden, enc_output, context_vector):\n",
    "        output, state = self.gru(enc_output, initial_state=hidden)\n",
    "        return output, state"
   ]
  },
  {
   "cell_type": "markdown",
   "metadata": {},
   "source": [
    "老师例子"
   ]
  },
  {
   "cell_type": "code",
   "execution_count": null,
   "metadata": {},
   "outputs": [],
   "source": [
    "class Encoder(tf.keras.layers.Layer):\n",
    "    def __init__(self, vocab_size, embedding_dim, enc_units, batch_sz):\n",
    "        super(Encoder, self).__init__()\n",
    "        self.batch_sz = batch_sz\n",
    "        self.enc_units = enc_units\n",
    "        self.embedding = tf.keras.layers.Embedding(vocab_size, embedding_dim)\n",
    "        gpus = tf.config.experimental.list_physical_devices('GPU')\n",
    "        if gpus:\n",
    "            self.gru = tf.keras.layers.CuDNNGRU(self.enc_units,\n",
    "                                                return_sequences=True,\n",
    "                                                return_state=True,\n",
    "                                                recurrent_initializer='glorot_uniform')\n",
    "        else:\n",
    "            self.gru = tf.keras.layers.GRU(self.enc_units,\n",
    "                                           return_sequences=True,\n",
    "                                           return_state=True,\n",
    "                                           recurrent_initializer='glorot_uniform')\n",
    "        # self.bigru = tf.keras.layers.Bidirectional(self.gru, merge_mode='concat')\n",
    "\n",
    "    def call(self, x, hidden):\n",
    "        x = self.embedding(x)\n",
    "        # hidden = tf.split(hidden, num_or_size_splits=2, axis=1)\n",
    "        # output, forward_state, backward_state = self.bigru(x, initial_state=hidden)\n",
    "        # state = tf.concat([forward_state, backward_state], axis=1)\n",
    "        output, state = self.gru(x, initial_state=hidden)\n",
    "        return output, state\n",
    "\n",
    "    def initialize_hidden_state(self):\n",
    "        return tf.zeros((self.batch_sz, self.enc_units))"
   ]
  }
 ],
 "metadata": {
  "kernelspec": {
   "display_name": "NLP_Pro_01",
   "language": "python",
   "name": "nlp_pro_01"
  },
  "language_info": {
   "codemirror_mode": {
    "name": "ipython",
    "version": 3
   },
   "file_extension": ".py",
   "mimetype": "text/x-python",
   "name": "python",
   "nbconvert_exporter": "python",
   "pygments_lexer": "ipython3",
   "version": "3.7.5"
  }
 },
 "nbformat": 4,
 "nbformat_minor": 4
}
